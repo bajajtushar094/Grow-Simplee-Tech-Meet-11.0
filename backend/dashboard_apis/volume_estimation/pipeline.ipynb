{
 "cells": [
  {
   "cell_type": "code",
   "execution_count": 1,
   "metadata": {},
   "outputs": [
    {
     "name": "stdout",
     "output_type": "stream",
     "text": [
      "Jupyter environment detected. Enabling Open3D WebVisualizer.\n",
      "[Open3D INFO] WebRTC GUI backend enabled.\n",
      "[Open3D INFO] WebRTCWindowSystem: HTTP handshake server disabled.\n"
     ]
    }
   ],
   "source": [
    "import torch\n",
    "import numpy as np\n",
    "import pandas as pd\n",
    "from rembg import remove\n",
    "from PIL import Image\n",
    "import matplotlib.pyplot as plt\n",
    "import cv2\n",
    "import glob\n",
    "import open3d as o3d"
   ]
  },
  {
   "cell_type": "code",
   "execution_count": 2,
   "metadata": {},
   "outputs": [],
   "source": [
    "img_path = \"images/xppen.jpg\"\n",
    "img = Image.open(img_path)\n",
    "img = img.convert('RGB')\n",
    "\n",
    "no_bg = remove(img)\n",
    "no_bg = no_bg.convert('RGBA')\n",
    "no_bg_path = f'{img_path.split(\".\")[0]}_no_bg.png'\n",
    "no_bg.save(no_bg_path)"
   ]
  },
  {
   "cell_type": "code",
   "execution_count": 3,
   "metadata": {},
   "outputs": [
    {
     "name": "stderr",
     "output_type": "stream",
     "text": [
      "Using cache found in /home/gunjan/.cache/torch/hub/intel-isl_MiDaS_master\n"
     ]
    },
    {
     "name": "stdout",
     "output_type": "stream",
     "text": [
      "Loading weights:  None\n"
     ]
    },
    {
     "name": "stderr",
     "output_type": "stream",
     "text": [
      "Using cache found in /home/gunjan/.cache/torch/hub/facebookresearch_WSL-Images_main\n",
      "Using cache found in /home/gunjan/.cache/torch/hub/intel-isl_MiDaS_master\n"
     ]
    },
    {
     "name": "stdout",
     "output_type": "stream",
     "text": [
      "Loading weights:  None\n"
     ]
    },
    {
     "name": "stderr",
     "output_type": "stream",
     "text": [
      "Using cache found in /home/gunjan/.cache/torch/hub/facebookresearch_WSL-Images_main\n"
     ]
    }
   ],
   "source": [
    "midas = torch.hub.load(\"intel-isl/MiDaS\", \"MiDaS\")\n",
    "\n",
    "use_large_model = True\n",
    "\n",
    "if use_large_model:\n",
    "    midas = torch.hub.load(\"intel-isl/MiDaS\", \"MiDaS\")\n",
    "else:\n",
    "    midas = torch.hub.load(\"intel-isl/MiDaS\", \"MiDaS_small\")"
   ]
  },
  {
   "cell_type": "code",
   "execution_count": 4,
   "metadata": {},
   "outputs": [
    {
     "name": "stderr",
     "output_type": "stream",
     "text": [
      "Using cache found in /home/gunjan/.cache/torch/hub/intel-isl_MiDaS_master\n"
     ]
    }
   ],
   "source": [
    "device = \"cpu\"\n",
    "midas.to(device)\n",
    "\n",
    "midas_transforms = torch.hub.load(\"intel-isl/MiDaS\", \"transforms\")\n",
    "\n",
    "if use_large_model:\n",
    "    transform = midas_transforms.default_transform\n",
    "else:\n",
    "    transform = midas_transforms.small_transform"
   ]
  },
  {
   "cell_type": "code",
   "execution_count": 5,
   "metadata": {},
   "outputs": [],
   "source": [
    "def depth(img):\n",
    "    cv_image = np.array(img) \n",
    "    img = cv2.cvtColor(cv_image, cv2.COLOR_BGR2RGB)\n",
    "\n",
    "    input_batch = transform(img).to(device)\n",
    "    with torch.no_grad():\n",
    "        prediction = midas(input_batch)\n",
    "\n",
    "        prediction = torch.nn.functional.interpolate(\n",
    "            prediction.unsqueeze(1),\n",
    "            size=img.shape[:2],\n",
    "            mode=\"bicubic\",\n",
    "            align_corners=False,\n",
    "        ).squeeze()\n",
    "\n",
    "        output = prediction.cpu().numpy()\n",
    "        formatted = (output * 255 / np.max(output)).astype('uint8')\n",
    "        img = Image.fromarray(formatted)\n",
    "    return img"
   ]
  },
  {
   "cell_type": "code",
   "execution_count": 6,
   "metadata": {},
   "outputs": [],
   "source": [
    "depth_output = depth(img=img)\n",
    "depth_output_path = f'{img_path.split(\".\")[0]}_depth_map.png'\n",
    "depth_output.save(depth_output_path)"
   ]
  },
  {
   "cell_type": "code",
   "execution_count": 7,
   "metadata": {},
   "outputs": [],
   "source": [
    "color = o3d.io.read_image(no_bg_path)\n",
    "depth_img = o3d.io.read_image(depth_output_path)\n",
    "rgbd = o3d.geometry.RGBDImage.create_from_color_and_depth(\n",
    "    color,\n",
    "    depth_img,\n",
    "    convert_rgb_to_intensity=False\n",
    ")\n",
    "# pinhole_intrinsics = o3d.camera.PinholeCameraIntrinsic(720, 640, 1.39072361e+03, 1.18293812e+02, 9.39469264e+02, 4.55648048e+02)\n",
    "pinhole_intrinsics = o3d.camera.PinholeCameraIntrinsic(720, 640, 1.39072361e+03, 1.18293812e+02, 9.39469264e+02, 4.55648048e+02)\n",
    "pcd = o3d.geometry.PointCloud.create_from_rgbd_image(rgbd, pinhole_intrinsics)"
   ]
  },
  {
   "cell_type": "code",
   "execution_count": 8,
   "metadata": {},
   "outputs": [],
   "source": [
    "o3d.visualization.draw_geometries([pcd])"
   ]
  },
  {
   "cell_type": "code",
   "execution_count": 9,
   "metadata": {},
   "outputs": [
    {
     "name": "stdout",
     "output_type": "stream",
     "text": [
      "[[0. 0. 0.]\n",
      " [0. 0. 0.]\n",
      " [0. 0. 0.]\n",
      " ...\n",
      " [0. 0. 0.]\n",
      " [0. 0. 0.]\n",
      " [0. 0. 0.]]\n",
      "(11571876, 3)\n"
     ]
    }
   ],
   "source": [
    "pcd.transform([[1,0,0,0],[0,-1,0,0],[0,0,-1,0],[0,0,0,1]])\n",
    "\n",
    "nb_neighbors=15 \n",
    "std_ratio=1.6\n",
    "# voxel_size=5e-3\n",
    "\n",
    "cl, ind = pcd.remove_statistical_outlier(nb_neighbors=nb_neighbors,\n",
    "                                                    std_ratio=std_ratio)\n",
    "pcd_clean = pcd.select_by_index(ind)\n",
    "pcd = pcd_clean\n",
    "k = np.asarray(pcd.colors)\n",
    "print(k)\n",
    "print(k.shape)"
   ]
  },
  {
   "cell_type": "code",
   "execution_count": 105,
   "metadata": {},
   "outputs": [],
   "source": [
    "import numpy as np\n",
    "import open3d as o3d\n",
    "from open3d.web_visualizer import draw"
   ]
  },
  {
   "cell_type": "code",
   "execution_count": 10,
   "metadata": {},
   "outputs": [
    {
     "name": "stdout",
     "output_type": "stream",
     "text": [
      "8.745937686221349e-10\n"
     ]
    }
   ],
   "source": [
    "# mask = np.isclose(k[:,2],0.39215686, rtol= 1)\n",
    "pcd_sel = pcd.select_by_index(np.where(np.isclose(k[:,2],0.39215686, rtol= 1)!=True)[0])\n",
    "hull, _ = o3d.geometry.PointCloud.compute_convex_hull(pcd_sel)\n",
    "hull.orient_triangles()\n",
    "hull_ls = o3d.geometry.LineSet.create_from_triangle_mesh(hull)\n",
    "hull_ls.paint_uniform_color((1, 0, 0))\n",
    "o3d.visualization.draw_geometries([pcd_sel, hull_ls])    # visualize the point cloud\n",
    "\n",
    "print(hull.get_volume())"
   ]
  },
  {
   "cell_type": "code",
   "execution_count": 75,
   "metadata": {},
   "outputs": [
    {
     "data": {
      "text/plain": [
       "945.1724380706584"
      ]
     },
     "execution_count": 75,
     "metadata": {},
     "output_type": "execute_result"
    }
   ],
   "source": [
    "2.204483820572964e-11 * (35000**3)"
   ]
  },
  {
   "cell_type": "code",
   "execution_count": 90,
   "metadata": {},
   "outputs": [],
   "source": [
    "# from o3d.geometry.OrientedBoundingBox import get_oriented_bounding_box\n",
    "bounding_box = o3d.geometry.OrientedBoundingBox.create_from_points(pcd_sel.points, robust=True)\n",
    "# create_from_points(pcd_sel.points, robust=True)"
   ]
  },
  {
   "cell_type": "code",
   "execution_count": 91,
   "metadata": {},
   "outputs": [
    {
     "data": {
      "text/plain": [
       "array([[ 0.00071559, -0.00021264, -0.00082379],\n",
       "       [ 0.00017643, -0.00019307, -0.00044188],\n",
       "       [ 0.00074053,  0.00052054, -0.00082613],\n",
       "       [ 0.00065507, -0.00021085, -0.00090932],\n",
       "       [ 0.00014085,  0.00054189, -0.00052976],\n",
       "       [ 0.00068001,  0.00052233, -0.00091166],\n",
       "       [ 0.00011591, -0.00019129, -0.00052741],\n",
       "       [ 0.00020137,  0.0005401 , -0.00044423]])"
      ]
     },
     "execution_count": 91,
     "metadata": {},
     "output_type": "execute_result"
    }
   ],
   "source": [
    "np.asarray(bounding_box.get_box_points())"
   ]
  },
  {
   "cell_type": "code",
   "execution_count": 92,
   "metadata": {},
   "outputs": [
    {
     "data": {
      "text/plain": [
       "5.081432692968005e-11"
      ]
     },
     "execution_count": 92,
     "metadata": {},
     "output_type": "execute_result"
    }
   ],
   "source": [
    "bounding_box.volume()"
   ]
  },
  {
   "cell_type": "code",
   "execution_count": 82,
   "metadata": {},
   "outputs": [
    {
     "data": {
      "text/plain": [
       "792.225350599306"
      ]
     },
     "execution_count": 82,
     "metadata": {},
     "output_type": "execute_result"
    }
   ],
   "source": [
    "2.2044838205729638e-11* (33000**3)"
   ]
  },
  {
   "cell_type": "code",
   "execution_count": 93,
   "metadata": {},
   "outputs": [],
   "source": [
    "o3d.visualization.draw_geometries([bounding_box])"
   ]
  },
  {
   "cell_type": "code",
   "execution_count": 73,
   "metadata": {},
   "outputs": [
    {
     "data": {
      "text/plain": [
       "OrientedBoundingBox: center: (0.00046027, 5.60573e-05, -0.000704153), extent: 0.000762067, 0.000695051, 0.000105202)"
      ]
     },
     "execution_count": 73,
     "metadata": {},
     "output_type": "execute_result"
    }
   ],
   "source": [
    "bounding_box"
   ]
  },
  {
   "cell_type": "code",
   "execution_count": 78,
   "metadata": {},
   "outputs": [
    {
     "data": {
      "text/plain": [
       "34117.735054791774"
      ]
     },
     "execution_count": 78,
     "metadata": {},
     "output_type": "execute_result"
    }
   ],
   "source": [
    "26/0.000762067"
   ]
  },
  {
   "cell_type": "code",
   "execution_count": 50,
   "metadata": {},
   "outputs": [
    {
     "data": {
      "text/plain": [
       "2.839314389368581e-11"
      ]
     },
     "execution_count": 50,
     "metadata": {},
     "output_type": "execute_result"
    }
   ],
   "source": [
    "bounding_box.volume()"
   ]
  },
  {
   "cell_type": "code",
   "execution_count": 94,
   "metadata": {},
   "outputs": [],
   "source": [
    "bounding_box.color = [0,1,0]"
   ]
  },
  {
   "cell_type": "code",
   "execution_count": 95,
   "metadata": {},
   "outputs": [],
   "source": [
    "o3d.visualization.draw_geometries([pcd_sel, bounding_box])"
   ]
  },
  {
   "cell_type": "code",
   "execution_count": 52,
   "metadata": {},
   "outputs": [
    {
     "data": {
      "text/plain": [
       "1401.0654314662424"
      ]
     },
     "execution_count": 52,
     "metadata": {},
     "output_type": "execute_result"
    }
   ],
   "source": [
    "2.839314389368581e-11 * (36678.78813284009**3)"
   ]
  },
  {
   "cell_type": "code",
   "execution_count": null,
   "metadata": {},
   "outputs": [],
   "source": [
    "37385.232833031"
   ]
  }
 ],
 "metadata": {
  "kernelspec": {
   "display_name": "Python 3 (ipykernel)",
   "language": "python",
   "name": "python3"
  },
  "language_info": {
   "codemirror_mode": {
    "name": "ipython",
    "version": 3
   },
   "file_extension": ".py",
   "mimetype": "text/x-python",
   "name": "python",
   "nbconvert_exporter": "python",
   "pygments_lexer": "ipython3",
   "version": "3.10.4"
  },
  "vscode": {
   "interpreter": {
    "hash": "a10af3278dd1c837cda384bec52ddb34a020bb93c686a86b9c8dd25a8e95fa03"
   }
  }
 },
 "nbformat": 4,
 "nbformat_minor": 2
}
