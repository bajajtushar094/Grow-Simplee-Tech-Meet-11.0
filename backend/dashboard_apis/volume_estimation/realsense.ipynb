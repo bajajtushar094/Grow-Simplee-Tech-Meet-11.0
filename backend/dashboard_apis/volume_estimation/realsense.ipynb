{
 "cells": [
  {
   "cell_type": "code",
   "execution_count": 23,
   "metadata": {},
   "outputs": [],
   "source": [
    "import open3d as o3d\n",
    "import json\n",
    "import cv2"
   ]
  },
  {
   "cell_type": "code",
   "execution_count": 19,
   "metadata": {},
   "outputs": [
    {
     "name": "stdout",
     "output_type": "stream",
     "text": [
      "[Open3D INFO] [0] Intel RealSense D435: 817512071721\n",
      "[Open3D INFO] \tdepth_fps: [10 | 15 | 30 | 6 | 60 | 8 | 90]\n",
      "[Open3D INFO] \tdepth_resolution: [1280,720 | 256,144 | 480,270 | 640,360 | 640,480 | 848,480]\n",
      "[Open3D INFO] \tdepth_format: [RS2_FORMAT_Z16]\n",
      "[Open3D INFO] \tcolor_fps: [10 | 15 | 30 | 6 | 60 | 8]\n",
      "[Open3D INFO] \tvisual_preset: []\n",
      "[Open3D INFO] \tcolor_resolution: [1280,720 | 1920,1080 | 424,240 | 640,480]\n",
      "[Open3D INFO] \tcolor_format: [RS2_FORMAT_BGR8 | RS2_FORMAT_BGRA8 | RS2_FORMAT_RGB8 | RS2_FORMAT_RGBA8 | RS2_FORMAT_Y16 | RS2_FORMAT_YUYV]\n",
      "[Open3D INFO] Open3D only supports synchronized color and depth capture (color_fps = depth_fps).\n"
     ]
    },
    {
     "data": {
      "text/plain": [
       "True"
      ]
     },
     "execution_count": 19,
     "metadata": {},
     "output_type": "execute_result"
    }
   ],
   "source": [
    "o3d.t.io.RealSenseSensor.list_devices()"
   ]
  },
  {
   "cell_type": "code",
   "execution_count": 20,
   "metadata": {},
   "outputs": [
    {
     "ename": "RuntimeError",
     "evalue": "\u001b[1;31m[Open3D Error] (virtual bool open3d::t::io::RealSenseSensor::StartCapture(bool)) /root/Open3D/cpp/open3d/t/io/sensor/realsense/RealSenseSensor.cpp:241: StartCapture() failed: Backend: xioctl(VIDIOC_S_FMT) failed Last Error: Device or resource busy\n\u001b[0;m",
     "output_type": "error",
     "traceback": [
      "\u001b[0;31m---------------------------------------------------------------------------\u001b[0m",
      "\u001b[0;31mRuntimeError\u001b[0m                              Traceback (most recent call last)",
      "\u001b[1;32m/home/gunjan/Desktop/task1_interiit/realsense.ipynb Cell 3\u001b[0m in \u001b[0;36m<cell line: 6>\u001b[0;34m()\u001b[0m\n\u001b[1;32m      <a href='vscode-notebook-cell:/home/gunjan/Desktop/task1_interiit/realsense.ipynb#W2sZmlsZQ%3D%3D?line=3'>4</a>\u001b[0m rs \u001b[39m=\u001b[39m o3d\u001b[39m.\u001b[39mt\u001b[39m.\u001b[39mio\u001b[39m.\u001b[39mRealSenseSensor()\n\u001b[1;32m      <a href='vscode-notebook-cell:/home/gunjan/Desktop/task1_interiit/realsense.ipynb#W2sZmlsZQ%3D%3D?line=4'>5</a>\u001b[0m rs\u001b[39m.\u001b[39minit_sensor(rs_cfg, \u001b[39m0\u001b[39m, \u001b[39m\"\u001b[39m\u001b[39mtest.bag\u001b[39m\u001b[39m\"\u001b[39m)\n\u001b[0;32m----> <a href='vscode-notebook-cell:/home/gunjan/Desktop/task1_interiit/realsense.ipynb#W2sZmlsZQ%3D%3D?line=5'>6</a>\u001b[0m rs\u001b[39m.\u001b[39;49mstart_capture(\u001b[39mTrue\u001b[39;49;00m)  \u001b[39m# true: start recording with capture\u001b[39;00m\n\u001b[1;32m      <a href='vscode-notebook-cell:/home/gunjan/Desktop/task1_interiit/realsense.ipynb#W2sZmlsZQ%3D%3D?line=6'>7</a>\u001b[0m \u001b[39mfor\u001b[39;00m fid \u001b[39min\u001b[39;00m \u001b[39mrange\u001b[39m(\u001b[39m150\u001b[39m):\n\u001b[1;32m      <a href='vscode-notebook-cell:/home/gunjan/Desktop/task1_interiit/realsense.ipynb#W2sZmlsZQ%3D%3D?line=7'>8</a>\u001b[0m     im_rgbd \u001b[39m=\u001b[39m rs\u001b[39m.\u001b[39mcapture_frame(\u001b[39mTrue\u001b[39;00m, \u001b[39mTrue\u001b[39;00m)  \u001b[39m# wait for frames and align them\u001b[39;00m\n",
      "\u001b[0;31mRuntimeError\u001b[0m: \u001b[1;31m[Open3D Error] (virtual bool open3d::t::io::RealSenseSensor::StartCapture(bool)) /root/Open3D/cpp/open3d/t/io/sensor/realsense/RealSenseSensor.cpp:241: StartCapture() failed: Backend: xioctl(VIDIOC_S_FMT) failed Last Error: Device or resource busy\n\u001b[0;m"
     ]
    }
   ],
   "source": [
    "with open(\"rs_config.json\") as cf:\n",
    "    rs_cfg = o3d.t.io.RealSenseSensorConfig(json.load(cf))\n",
    "\n",
    "rs = o3d.t.io.RealSenseSensor()\n",
    "rs.init_sensor(rs_cfg, 0, \"test.bag\")\n",
    "rs.start_capture(True)  # true: start recording with capture\n",
    "for fid in range(150):\n",
    "    im_rgbd = rs.capture_frame(True, True)  # wait for frames and align them\n",
    "    # process im_rgbd.depth and im_rgbd.color\n",
    "\n",
    "rs.stop_capture()"
   ]
  },
  {
   "cell_type": "code",
   "execution_count": 9,
   "metadata": {},
   "outputs": [
    {
     "name": "stdout",
     "output_type": "stream",
     "text": [
      "\u001b[1;33m[Open3D WARNING] Unable to open file test.bag\u001b[0;m\n"
     ]
    },
    {
     "ename": "RuntimeError",
     "evalue": "\u001b[1;31m[Open3D Error] (virtual open3d::t::geometry::RGBDImage open3d::t::io::RSBagReader::NextFrame()) /root/Open3D/cpp/open3d/t/io/sensor/realsense/RSBagReader.cpp:187: Null file handler. Please call Open().\n\u001b[0;m",
     "output_type": "error",
     "traceback": [
      "\u001b[0;31m---------------------------------------------------------------------------\u001b[0m",
      "\u001b[0;31mRuntimeError\u001b[0m                              Traceback (most recent call last)",
      "\u001b[1;32m/home/gunjan/Desktop/task1_interiit/realsense.ipynb Cell 4\u001b[0m in \u001b[0;36m<cell line: 4>\u001b[0;34m()\u001b[0m\n\u001b[1;32m      <a href='vscode-notebook-cell:/home/gunjan/Desktop/task1_interiit/realsense.ipynb#W3sZmlsZQ%3D%3D?line=1'>2</a>\u001b[0m bag_reader \u001b[39m=\u001b[39m o3d\u001b[39m.\u001b[39mt\u001b[39m.\u001b[39mio\u001b[39m.\u001b[39mRSBagReader()\n\u001b[1;32m      <a href='vscode-notebook-cell:/home/gunjan/Desktop/task1_interiit/realsense.ipynb#W3sZmlsZQ%3D%3D?line=2'>3</a>\u001b[0m bag_reader\u001b[39m.\u001b[39mopen(\u001b[39m\"\u001b[39m\u001b[39mtest.bag\u001b[39m\u001b[39m\"\u001b[39m)\n\u001b[0;32m----> <a href='vscode-notebook-cell:/home/gunjan/Desktop/task1_interiit/realsense.ipynb#W3sZmlsZQ%3D%3D?line=3'>4</a>\u001b[0m im_rgbd \u001b[39m=\u001b[39m bag_reader\u001b[39m.\u001b[39;49mnext_frame()\n\u001b[1;32m      <a href='vscode-notebook-cell:/home/gunjan/Desktop/task1_interiit/realsense.ipynb#W3sZmlsZQ%3D%3D?line=4'>5</a>\u001b[0m \u001b[39mwhile\u001b[39;00m \u001b[39mnot\u001b[39;00m bag_reader\u001b[39m.\u001b[39mis_eof():\n\u001b[1;32m      <a href='vscode-notebook-cell:/home/gunjan/Desktop/task1_interiit/realsense.ipynb#W3sZmlsZQ%3D%3D?line=5'>6</a>\u001b[0m     \u001b[39m# process im_rgbd.depth and im_rgbd.color\u001b[39;00m\n\u001b[1;32m      <a href='vscode-notebook-cell:/home/gunjan/Desktop/task1_interiit/realsense.ipynb#W3sZmlsZQ%3D%3D?line=6'>7</a>\u001b[0m     im_rgbd \u001b[39m=\u001b[39m bag_reader\u001b[39m.\u001b[39mnext_frame()\n",
      "\u001b[0;31mRuntimeError\u001b[0m: \u001b[1;31m[Open3D Error] (virtual open3d::t::geometry::RGBDImage open3d::t::io::RSBagReader::NextFrame()) /root/Open3D/cpp/open3d/t/io/sensor/realsense/RSBagReader.cpp:187: Null file handler. Please call Open().\n\u001b[0;m"
     ]
    }
   ],
   "source": [
    "import open3d as o3d\n",
    "bag_reader = o3d.t.io.RSBagReader()\n",
    "bag_reader.open(\"test.bag\")\n",
    "im_rgbd = bag_reader.next_frame()\n",
    "while not bag_reader.is_eof():\n",
    "    # process im_rgbd.depth and im_rgbd.color\n",
    "    im_rgbd = bag_reader.next_frame()\n",
    "\n",
    "bag_reader.close()"
   ]
  },
  {
   "cell_type": "code",
   "execution_count": 10,
   "metadata": {},
   "outputs": [
    {
     "name": "stdout",
     "output_type": "stream",
     "text": [
      "[Open3D INFO] Capture started with RealSense camera 817512071721\n",
      "[Open3D INFO] Recording [Paused] to bag file test.bag\n"
     ]
    },
    {
     "data": {
      "text/plain": [
       "True"
      ]
     },
     "execution_count": 10,
     "metadata": {},
     "output_type": "execute_result"
    }
   ],
   "source": [
    "rs.start_capture()"
   ]
  },
  {
   "cell_type": "code",
   "execution_count": 21,
   "metadata": {},
   "outputs": [],
   "source": [
    "rs.stop_capture()"
   ]
  },
  {
   "cell_type": "code",
   "execution_count": 29,
   "metadata": {},
   "outputs": [],
   "source": [
    "import cv2\n",
    "import pyrealsense2\n",
    "from realsense_depth import *"
   ]
  },
  {
   "cell_type": "code",
   "execution_count": 34,
   "metadata": {},
   "outputs": [
    {
     "ename": "error",
     "evalue": "OpenCV(4.6.0) /io/opencv/modules/highgui/src/window.cpp:1250: error: (-2:Unspecified error) The function is not implemented. Rebuild the library with Windows, GTK+ 2.x or Cocoa support. If you are on Ubuntu or Debian, install libgtk2.0-dev and pkg-config, then re-run cmake or configure script in function 'cvNamedWindow'\n",
     "output_type": "error",
     "traceback": [
      "\u001b[0;31m---------------------------------------------------------------------------\u001b[0m",
      "\u001b[0;31merror\u001b[0m                                     Traceback (most recent call last)",
      "\u001b[1;32m/home/gunjan/Desktop/task1_interiit/realsense.ipynb Cell 8\u001b[0m in \u001b[0;36m<cell line: 11>\u001b[0;34m()\u001b[0m\n\u001b[1;32m      <a href='vscode-notebook-cell:/home/gunjan/Desktop/task1_interiit/realsense.ipynb#X10sZmlsZQ%3D%3D?line=7'>8</a>\u001b[0m dc \u001b[39m=\u001b[39m DepthCamera()\n\u001b[1;32m     <a href='vscode-notebook-cell:/home/gunjan/Desktop/task1_interiit/realsense.ipynb#X10sZmlsZQ%3D%3D?line=9'>10</a>\u001b[0m \u001b[39m# Create mouse event\u001b[39;00m\n\u001b[0;32m---> <a href='vscode-notebook-cell:/home/gunjan/Desktop/task1_interiit/realsense.ipynb#X10sZmlsZQ%3D%3D?line=10'>11</a>\u001b[0m cv2\u001b[39m.\u001b[39;49mnamedWindow(\u001b[39m\"\u001b[39;49m\u001b[39mColor frame\u001b[39;49m\u001b[39m\"\u001b[39;49m)\n\u001b[1;32m     <a href='vscode-notebook-cell:/home/gunjan/Desktop/task1_interiit/realsense.ipynb#X10sZmlsZQ%3D%3D?line=11'>12</a>\u001b[0m cv2\u001b[39m.\u001b[39msetMouseCallback(\u001b[39m\"\u001b[39m\u001b[39mColor frame\u001b[39m\u001b[39m\"\u001b[39m, show_distance)\n\u001b[1;32m     <a href='vscode-notebook-cell:/home/gunjan/Desktop/task1_interiit/realsense.ipynb#X10sZmlsZQ%3D%3D?line=13'>14</a>\u001b[0m \u001b[39mwhile\u001b[39;00m \u001b[39mTrue\u001b[39;00m:\n",
      "\u001b[0;31merror\u001b[0m: OpenCV(4.6.0) /io/opencv/modules/highgui/src/window.cpp:1250: error: (-2:Unspecified error) The function is not implemented. Rebuild the library with Windows, GTK+ 2.x or Cocoa support. If you are on Ubuntu or Debian, install libgtk2.0-dev and pkg-config, then re-run cmake or configure script in function 'cvNamedWindow'\n"
     ]
    }
   ],
   "source": [
    "point = (400, 300)\n",
    "\n",
    "def show_distance(event, x, y, args, params):\n",
    "    global point\n",
    "    point = (x, y)\n",
    "\n",
    "# Initialize Camera Intel Realsense\n",
    "dc = DepthCamera()\n",
    "\n",
    "# Create mouse event\n",
    "cv2.namedWindow(\"Color frame\")\n",
    "cv2.setMouseCallback(\"Color frame\", show_distance)\n",
    "\n",
    "while True:\n",
    "    ret, depth_frame, color_frame = dc.get_frame()\n",
    "\n",
    "    # Show distance for a specific point\n",
    "    cv2.circle(color_frame, point, 4, (0, 0, 255))\n",
    "    distance = depth_frame[point[1], point[0]]\n",
    "\n",
    "    cv2.putText(color_frame, \"{}mm\".format(distance), (point[0], point[1] - 20), cv2.FONT_HERSHEY_PLAIN, 2, (0, 0, 0), 2)\n",
    "\n",
    "    cv2.imshow(\"depth frame\", depth_frame)\n",
    "    cv2.imshow(\"Color frame\", color_frame)\n",
    "    key = cv2.waitKey(1)\n",
    "    if key == 27:\n",
    "        break\n",
    "\n",
    "dc.release()"
   ]
  },
  {
   "cell_type": "code",
   "execution_count": 35,
   "metadata": {},
   "outputs": [],
   "source": [
    "dc.release()"
   ]
  },
  {
   "cell_type": "code",
   "execution_count": 36,
   "metadata": {},
   "outputs": [
    {
     "ename": "error",
     "evalue": "OpenCV(4.6.0) /io/opencv/modules/highgui/src/window.cpp:1250: error: (-2:Unspecified error) The function is not implemented. Rebuild the library with Windows, GTK+ 2.x or Cocoa support. If you are on Ubuntu or Debian, install libgtk2.0-dev and pkg-config, then re-run cmake or configure script in function 'cvNamedWindow'\n",
     "output_type": "error",
     "traceback": [
      "\u001b[0;31m---------------------------------------------------------------------------\u001b[0m",
      "\u001b[0;31merror\u001b[0m                                     Traceback (most recent call last)",
      "\u001b[1;32m/home/gunjan/Desktop/task1_interiit/realsense.ipynb Cell 10\u001b[0m in \u001b[0;36m<cell line: 15>\u001b[0;34m()\u001b[0m\n\u001b[1;32m     <a href='vscode-notebook-cell:/home/gunjan/Desktop/task1_interiit/realsense.ipynb#X12sZmlsZQ%3D%3D?line=11'>12</a>\u001b[0m dc \u001b[39m=\u001b[39m DepthCamera()\n\u001b[1;32m     <a href='vscode-notebook-cell:/home/gunjan/Desktop/task1_interiit/realsense.ipynb#X12sZmlsZQ%3D%3D?line=13'>14</a>\u001b[0m \u001b[39m# Create mouse event\u001b[39;00m\n\u001b[0;32m---> <a href='vscode-notebook-cell:/home/gunjan/Desktop/task1_interiit/realsense.ipynb#X12sZmlsZQ%3D%3D?line=14'>15</a>\u001b[0m cv2\u001b[39m.\u001b[39;49mnamedWindow(\u001b[39m\"\u001b[39;49m\u001b[39mColor frame\u001b[39;49m\u001b[39m\"\u001b[39;49m)\n\u001b[1;32m     <a href='vscode-notebook-cell:/home/gunjan/Desktop/task1_interiit/realsense.ipynb#X12sZmlsZQ%3D%3D?line=15'>16</a>\u001b[0m cv2\u001b[39m.\u001b[39msetMouseCallback(\u001b[39m\"\u001b[39m\u001b[39mColor frame\u001b[39m\u001b[39m\"\u001b[39m, show_distance)\n\u001b[1;32m     <a href='vscode-notebook-cell:/home/gunjan/Desktop/task1_interiit/realsense.ipynb#X12sZmlsZQ%3D%3D?line=17'>18</a>\u001b[0m \u001b[39mwhile\u001b[39;00m \u001b[39mTrue\u001b[39;00m:\n",
      "\u001b[0;31merror\u001b[0m: OpenCV(4.6.0) /io/opencv/modules/highgui/src/window.cpp:1250: error: (-2:Unspecified error) The function is not implemented. Rebuild the library with Windows, GTK+ 2.x or Cocoa support. If you are on Ubuntu or Debian, install libgtk2.0-dev and pkg-config, then re-run cmake or configure script in function 'cvNamedWindow'\n"
     ]
    }
   ],
   "source": [
    "import cv2\n",
    "import pyrealsense2\n",
    "from realsense_depth import *\n",
    "\n",
    "point = (400, 300)\n",
    "\n",
    "def show_distance(event, x, y, args, params):\n",
    "    global point\n",
    "    point = (x, y)\n",
    "\n",
    "# Initialize Camera Intel Realsense\n",
    "dc = DepthCamera()\n",
    "\n",
    "# Create mouse event\n",
    "cv2.namedWindow(\"Color frame\")\n",
    "cv2.setMouseCallback(\"Color frame\", show_distance)\n",
    "\n",
    "while True:\n",
    "    ret, depth_frame, color_frame = dc.get_frame()\n",
    "\n",
    "    # Show distance for a specific point\n",
    "    cv2.circle(color_frame, point, 4, (0, 0, 255))\n",
    "    distance = depth_frame[point[1], point[0]]\n",
    "\n",
    "    cv2.putText(color_frame, \"{}mm\".format(distance), (point[0], point[1] - 20), cv2.FONT_HERSHEY_PLAIN, 2, (0, 0, 0), 2)\n",
    "\n",
    "    cv2.imshow(\"depth frame\", depth_frame)\n",
    "    cv2.imshow(\"Color frame\", color_frame)\n",
    "    key = cv2.waitKey(1)\n",
    "    if key == 27:\n",
    "        break"
   ]
  },
  {
   "cell_type": "code",
   "execution_count": 37,
   "metadata": {},
   "outputs": [],
   "source": [
    "dc.release()"
   ]
  },
  {
   "cell_type": "code",
   "execution_count": null,
   "metadata": {},
   "outputs": [],
   "source": []
  }
 ],
 "metadata": {
  "kernelspec": {
   "display_name": "pytorch",
   "language": "python",
   "name": "python3"
  },
  "language_info": {
   "codemirror_mode": {
    "name": "ipython",
    "version": 3
   },
   "file_extension": ".py",
   "mimetype": "text/x-python",
   "name": "python",
   "nbconvert_exporter": "python",
   "pygments_lexer": "ipython3",
   "version": "3.10.4"
  },
  "orig_nbformat": 4,
  "vscode": {
   "interpreter": {
    "hash": "a10af3278dd1c837cda384bec52ddb34a020bb93c686a86b9c8dd25a8e95fa03"
   }
  }
 },
 "nbformat": 4,
 "nbformat_minor": 2
}
